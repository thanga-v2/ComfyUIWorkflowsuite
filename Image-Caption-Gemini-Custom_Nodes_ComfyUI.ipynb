{
  "nbformat": 4,
  "nbformat_minor": 0,
  "metadata": {
    "colab": {
      "provenance": [],
      "authorship_tag": "ABX9TyMJnisg8o8DEIM2oGz3OKD8",
      "include_colab_link": true
    },
    "kernelspec": {
      "name": "python3",
      "display_name": "Python 3"
    },
    "language_info": {
      "name": "python"
    }
  },
  "cells": [
    {
      "cell_type": "markdown",
      "metadata": {
        "id": "view-in-github",
        "colab_type": "text"
      },
      "source": [
        "<a href=\"https://colab.research.google.com/github/thanga-v2/ComfyUIWorkflowsuite/blob/main/Image-Caption-Gemini-Custom_Nodes_ComfyUI.ipynb\" target=\"_parent\"><img src=\"https://colab.research.google.com/assets/colab-badge.svg\" alt=\"Open In Colab\"/></a>"
      ]
    },
    {
      "cell_type": "code",
      "execution_count": null,
      "metadata": {
        "id": "bPMa76SfiwgQ"
      },
      "outputs": [],
      "source": [
        "# Google gemini api keys stored in LLAMAV3 for ref"
      ]
    },
    {
      "cell_type": "code",
      "source": [
        "# copy the code into custom_nodes folder as image_caption.py in comfyUI"
      ],
      "metadata": {
        "id": "AA3guYIejCpA"
      },
      "execution_count": null,
      "outputs": []
    },
    {
      "cell_type": "code",
      "source": [
        "import numpy as np\n",
        "from PIL import Image\n",
        "import requests\n",
        "import io\n",
        "import base64\n",
        "\n",
        "class ImageCaptioningNode:\n",
        "    @classmethod\n",
        "    def INPUT_TYPES(s):\n",
        "        return {\n",
        "            \"required\": {\"image\": (\"IMAGE\",), \"api_key\": (\"STRING\", {\"default\": \"\"})}\n",
        "        }\n",
        "\n",
        "    RETURN_TYPES = (\"STRING\",)\n",
        "    FUNCTION = \"caption_image\"\n",
        "    CATEGORY = \"image\"\n",
        "    OUTPUT_NODE = True\n",
        "\n",
        "    def caption_image(self, image, api_key):\n",
        "        # Convert the image tensor to a PIL Image\n",
        "        image = Image.fromarray(\n",
        "            np.clip(255.0 * image.cpu().numpy().squeeze(), 0, 255).astype(np.uint8)\n",
        "        )\n",
        "\n",
        "        # Convert the image to base64\n",
        "        buffered = io.BytesIO()\n",
        "        image.save(buffered, format=\"PNG\")\n",
        "        img_str = base64.b64encode(buffered.getvalue()).decode()\n",
        "        api_url = f\"https://generativelanguage.googleapis.com/v1beta/models/gemini-1.5-flash:generateContent?key={api_key}\"\n",
        "        payload = {\n",
        "            \"contents\": [\n",
        "                {\n",
        "                    \"parts\": [\n",
        "                        {\n",
        "                            \"text\": \"Generate a caption for this image in as detail as possible. Don't send anything else apart from the caption.\"\n",
        "                        },\n",
        "                        {\"inline_data\": {\"mime_type\": \"image/png\", \"data\": img_str}},\n",
        "                    ]\n",
        "                }\n",
        "            ]\n",
        "        }\n",
        "\n",
        "        # Send the request to the Gemini API\n",
        "        try:\n",
        "            response = requests.post(api_url, json=payload)\n",
        "            response.raise_for_status()\n",
        "            caption = response.json()[\"candidates\"][0][\"content\"][\"parts\"][0][\"text\"]\n",
        "        except requests.exceptions.RequestException as e:\n",
        "            caption = f\"Error: Unable to generate caption. {str(e)}\"\n",
        "\n",
        "        print(caption)\n",
        "        return (caption,)\n",
        "\n",
        "\n",
        "NODE_CLASS_MAPPINGS = {\"ImageCaptioningNode\": ImageCaptioningNode}"
      ],
      "metadata": {
        "id": "UPx6vin6jMwl"
      },
      "execution_count": 3,
      "outputs": []
    }
  ]
}