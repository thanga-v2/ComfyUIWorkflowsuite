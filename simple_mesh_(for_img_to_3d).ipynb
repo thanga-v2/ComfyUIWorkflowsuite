{
  "nbformat": 4,
  "nbformat_minor": 0,
  "metadata": {
    "colab": {
      "provenance": [],
      "authorship_tag": "ABX9TyNhUOkd13tQjHkKUf0LIzZu",
      "include_colab_link": true
    },
    "kernelspec": {
      "name": "python3",
      "display_name": "Python 3"
    },
    "language_info": {
      "name": "python"
    }
  },
  "cells": [
    {
      "cell_type": "markdown",
      "metadata": {
        "id": "view-in-github",
        "colab_type": "text"
      },
      "source": [
        "<a href=\"https://colab.research.google.com/github/thanga-v2/ComfyUIWorkflowsuite/blob/main/simple_mesh_(for_img_to_3d).ipynb\" target=\"_parent\"><img src=\"https://colab.research.google.com/assets/colab-badge.svg\" alt=\"Open In Colab\"/></a>"
      ]
    },
    {
      "cell_type": "code",
      "execution_count": 2,
      "metadata": {
        "colab": {
          "base_uri": "https://localhost:8080/"
        },
        "id": "rcoUMy_iQ0eZ",
        "outputId": "de5b6a4d-c044-48c0-c5dc-49c0adeb92e9"
      },
      "outputs": [
        {
          "output_type": "stream",
          "name": "stdout",
          "text": [
            "Collecting trimesh\n",
            "  Downloading trimesh-4.4.2-py3-none-any.whl (695 kB)\n",
            "\u001b[?25l     \u001b[90m━━━━━━━━━━━━━━━━━━━━━━━━━━━━━━━━━━━━━━━━\u001b[0m \u001b[32m0.0/696.0 kB\u001b[0m \u001b[31m?\u001b[0m eta \u001b[36m-:--:--\u001b[0m\r\u001b[2K     \u001b[91m━━━━\u001b[0m\u001b[91m╸\u001b[0m\u001b[90m━━━━━━━━━━━━━━━━━━━━━━━━━━━━━━━━━━━\u001b[0m \u001b[32m81.9/696.0 kB\u001b[0m \u001b[31m2.3 MB/s\u001b[0m eta \u001b[36m0:00:01\u001b[0m\r\u001b[2K     \u001b[91m━━━━━━━━━━━━━━━━━━━━━━━━━━━━━━━━━━━━━\u001b[0m\u001b[91m╸\u001b[0m\u001b[90m━━\u001b[0m \u001b[32m655.4/696.0 kB\u001b[0m \u001b[31m9.6 MB/s\u001b[0m eta \u001b[36m0:00:01\u001b[0m\r\u001b[2K     \u001b[90m━━━━━━━━━━━━━━━━━━━━━━━━━━━━━━━━━━━━━━━━\u001b[0m \u001b[32m696.0/696.0 kB\u001b[0m \u001b[31m8.1 MB/s\u001b[0m eta \u001b[36m0:00:00\u001b[0m\n",
            "\u001b[?25hRequirement already satisfied: numpy>=1.20 in /usr/local/lib/python3.10/dist-packages (from trimesh) (1.25.2)\n",
            "Installing collected packages: trimesh\n",
            "Successfully installed trimesh-4.4.2\n"
          ]
        }
      ],
      "source": [
        "!pip install trimesh"
      ]
    },
    {
      "cell_type": "code",
      "source": [
        "import trimesh\n",
        "\n",
        "# Create a simple mesh\n",
        "mesh = trimesh.primitives.Sphere()\n",
        "\n",
        "# Display mesh information\n",
        "print(mesh)\n",
        "\n",
        "# Export the mesh to a file\n",
        "mesh.export('sphere.obj')\n",
        "\n",
        "# Load the mesh from the file\n",
        "loaded_mesh = trimesh.load('sphere.obj')\n",
        "\n",
        "# Print the loaded mesh information\n",
        "print(loaded_mesh)"
      ],
      "metadata": {
        "colab": {
          "base_uri": "https://localhost:8080/"
        },
        "id": "tVOpPxOaRDsN",
        "outputId": "610c6915-724c-46fb-b4c3-bc48efebd310"
      },
      "execution_count": 3,
      "outputs": [
        {
          "output_type": "stream",
          "name": "stdout",
          "text": [
            "<trimesh.primitives.Sphere>\n",
            "<trimesh.Trimesh(vertices.shape=(642, 3), faces.shape=(1280, 3), name=`sphere.obj`)>\n"
          ]
        }
      ]
    },
    {
      "cell_type": "code",
      "source": [
        "# Load a mesh\n",
        "mesh = trimesh.load('meshsave_00025_.obj')\n",
        "\n",
        "# Print mesh information\n",
        "print(mesh)"
      ],
      "metadata": {
        "colab": {
          "base_uri": "https://localhost:8080/"
        },
        "id": "9AIudxwdRSHs",
        "outputId": "e2dd75d0-8a1c-4ec7-abbc-2da5fb94aae9"
      },
      "execution_count": 5,
      "outputs": [
        {
          "output_type": "stream",
          "name": "stdout",
          "text": [
            "<trimesh.Trimesh(vertices.shape=(29708, 3), faces.shape=(59384, 3), name=`meshsave_00025_.obj`)>\n"
          ]
        }
      ]
    }
  ]
}